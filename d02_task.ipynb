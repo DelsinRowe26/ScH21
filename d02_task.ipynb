{
 "cells": [
  {
   "cell_type": "markdown",
   "metadata": {
    "id": "AURT5SuZPc3t"
   },
   "source": [
    "# День 02 – Предиктивный анализ I"
   ]
  },
  {
   "cell_type": "markdown",
   "metadata": {
    "id": "hLfFXupWPc3x"
   },
   "source": [
    "Наконец-то вы подошли уже вплотную к задаче, которая вам была поставлена ранее – разобраться с оттоком клиентов в банке, научившись его прогнозировать. Сегодня вы построите свою первую модель машинного обучения и построите прогноз по клиентам."
   ]
  },
  {
   "cell_type": "markdown",
   "metadata": {
    "id": "lTroWJckPc3y"
   },
   "source": [
    "## 0. Импорт библиотек"
   ]
  },
  {
   "cell_type": "markdown",
   "metadata": {
    "id": "SUGhIWVYPc3y"
   },
   "source": [
    "В этот раз их тоже будет немало. К знакомым вам в этом блоке появляется библиотека seaborn, которая позволяет строить более красивые и сложные визуализации. Они нам потребуются."
   ]
  },
  {
   "cell_type": "code",
   "execution_count": 1,
   "metadata": {
    "id": "6MIhopvVPc3y"
   },
   "outputs": [],
   "source": [
    "import pandas as pd\n",
    "import numpy as np\n",
    "import matplotlib.pyplot as plt\n",
    "import seaborn as sns\n",
    "%matplotlib inline"
   ]
  },
  {
   "cell_type": "code",
   "execution_count": null,
   "metadata": {
    "id": "oKKjFRPPPc30"
   },
   "outputs": [],
   "source": [
    "sns.set_style(\"darkgrid\") #у графиков будет красивая серая подложка"
   ]
  },
  {
   "cell_type": "markdown",
   "metadata": {
    "id": "WMvmJmiYPc30"
   },
   "source": [
    "Также с этого дня вы начнете работать с библиотекой `scikit-learn`, в которой как раз много удобных функций и методов для машинного обучения и предобработки данных. Но ее мы будем добавлять точечно по ходу процесса анализа данных для большей наглядности. "
   ]
  },
  {
   "cell_type": "markdown",
   "metadata": {
    "id": "CTYipXgwPc31"
   },
   "source": [
    "## 1. Загрузка данных"
   ]
  },
  {
   "cell_type": "markdown",
   "metadata": {
    "id": "Gh7yY3ZpPc31"
   },
   "source": [
    "Сегодня наконец-то начнем работать с готовым датасетом без пропущенных значений, с новыми столбцами, которые созданы путем группировки непрерывных признаков."
   ]
  },
  {
   "cell_type": "code",
   "execution_count": null,
   "metadata": {
    "id": "dxhM1MLjPc31"
   },
   "outputs": [],
   "source": [
    "df = pd.read_csv('путь к файлу')"
   ]
  },
  {
   "cell_type": "markdown",
   "metadata": {
    "id": "y13af02yPc32"
   },
   "source": [
    "## 2. Демонстрация логистической регрессии"
   ]
  },
  {
   "cell_type": "markdown",
   "metadata": {
    "id": "P0jRF8vaPc32"
   },
   "source": [
    "Прежде, чем вы начнете работать с датасетом и мы поделимся еще парой полезных команд, хочется продемонстрировать принцип работы логистической регрессии – одного из базовых алгоритмов машинного обучения."
   ]
  },
  {
   "cell_type": "markdown",
   "metadata": {
    "id": "yZIqWKarPc32"
   },
   "source": [
    "Сделаем это на другом датасете, который больше подходит для целей демонстрации. Это датасет вин. Есть вина, произведенные на трех разных виноградниках. Нужно научиться определять какое вино относится к какому винограднику. Нашу задачу сократим для удобства до двух виноградников и только двух признаков: процент алкоголя и уровень пролина (аминокислота, входящая в состав вин)."
   ]
  },
  {
   "cell_type": "code",
   "execution_count": 2,
   "metadata": {
    "id": "7uZpqg44Pc33"
   },
   "outputs": [],
   "source": [
    "from sklearn.datasets import load_wine"
   ]
  },
  {
   "cell_type": "code",
   "execution_count": 3,
   "metadata": {
    "id": "cKdYtD_dPc33"
   },
   "outputs": [],
   "source": [
    "data = load_wine()\n",
    "wine_df = pd.DataFrame(data.data, columns=data.feature_names)\n",
    "wine_df.insert(13, 'CLASS', data.target)\n",
    "wine_two_classes = wine_df.loc[(wine_df.CLASS == 0) | (wine_df.CLASS == 1)]\n",
    "wine_ready = wine_two_classes[['alcohol', 'proline', 'CLASS']]"
   ]
  },
  {
   "cell_type": "code",
   "execution_count": 4,
   "metadata": {
    "colab": {
     "base_uri": "https://localhost:8080/",
     "height": 111
    },
    "id": "J5gnYsG3Pc35",
    "outputId": "fd5dfa98-559f-4f55-ec73-08539a50bddb"
   },
   "outputs": [
    {
     "data": {
      "text/html": [
       "<div>\n",
       "<style scoped>\n",
       "    .dataframe tbody tr th:only-of-type {\n",
       "        vertical-align: middle;\n",
       "    }\n",
       "\n",
       "    .dataframe tbody tr th {\n",
       "        vertical-align: top;\n",
       "    }\n",
       "\n",
       "    .dataframe thead th {\n",
       "        text-align: right;\n",
       "    }\n",
       "</style>\n",
       "<table border=\"1\" class=\"dataframe\">\n",
       "  <thead>\n",
       "    <tr style=\"text-align: right;\">\n",
       "      <th></th>\n",
       "      <th>alcohol</th>\n",
       "      <th>proline</th>\n",
       "      <th>CLASS</th>\n",
       "    </tr>\n",
       "  </thead>\n",
       "  <tbody>\n",
       "    <tr>\n",
       "      <th>0</th>\n",
       "      <td>14.23</td>\n",
       "      <td>1065.0</td>\n",
       "      <td>0</td>\n",
       "    </tr>\n",
       "    <tr>\n",
       "      <th>1</th>\n",
       "      <td>13.20</td>\n",
       "      <td>1050.0</td>\n",
       "      <td>0</td>\n",
       "    </tr>\n",
       "  </tbody>\n",
       "</table>\n",
       "</div>"
      ],
      "text/plain": [
       "   alcohol  proline  CLASS\n",
       "0    14.23   1065.0      0\n",
       "1    13.20   1050.0      0"
      ]
     },
     "execution_count": 4,
     "metadata": {},
     "output_type": "execute_result"
    }
   ],
   "source": [
    "wine_ready.head(2)"
   ]
  },
  {
   "cell_type": "markdown",
   "metadata": {
    "id": "s_7lWBHYPc37"
   },
   "source": [
    "Визуализируем распределение вин по уровню алкоголя и пролина при помощи диаграммы рассеяния и расскрасим точки в соответствии с виноградниками."
   ]
  },
  {
   "cell_type": "code",
   "execution_count": null,
   "metadata": {
    "id": "85r0XkREPc38",
    "outputId": "1014f3bc-110b-44b1-f018-66fd95b44bab"
   },
   "outputs": [
    {
     "data": {
      "text/plain": [
       "<seaborn.axisgrid.FacetGrid at 0x141901bd0>"
      ]
     },
     "execution_count": 8,
     "metadata": {},
     "output_type": "execute_result"
    },
    {
     "data": {
      "image/png": "[encoded data removed]",
      "text/plain": [
       "<Figure size 581.625x360 with 1 Axes>"
      ]
     },
     "metadata": {},
     "output_type": "display_data"
    }
   ],
   "source": [
    "sns.lmplot(x=\"alcohol\", y=\"proline\", data=wine_ready, fit_reg=False, hue='CLASS', legend=True,\n",
    "          height=5, aspect=1.5)"
   ]
  },
  {
   "cell_type": "markdown",
   "metadata": {
    "id": "MqV9xTjVPc38"
   },
   "source": [
    "Кажется, невооруженным взглядом видно, что виноградники производят отличающиеся группы вин. И можно придумать какое-то правило (или границу), по которой можно было провести отсечение: что вот всё, что тут, мы будем считать произведенным на первом винограднике, а всё, что там, мы будем считать – на втором винограднике."
   ]
  },
  {
   "cell_type": "code",
   "execution_count": null,
   "metadata": {
    "id": "aYV1aXKpPc38"
   },
   "outputs": [],
   "source": [
    "from sklearn.linear_model import LogisticRegression"
   ]
  },
  {
   "cell_type": "code",
   "execution_count": null,
   "metadata": {
    "id": "o21JX2xpPc39"
   },
   "outputs": [],
   "source": [
    "X = wine_ready[['alcohol', 'proline']]\n",
    "y = wine_ready['CLASS']"
   ]
  },
  {
   "cell_type": "code",
   "execution_count": null,
   "metadata": {
    "id": "TCU78H1WPc39"
   },
   "outputs": [],
   "source": [
    "clf = LogisticRegression(random_state=21).fit(X, y) #обучим модель"
   ]
  },
  {
   "cell_type": "code",
   "execution_count": null,
   "metadata": {
    "id": "m7XVd-5wPc39",
    "outputId": "9bb90a1c-2d61-461c-d09d-b787c953a6e9"
   },
   "outputs": [
    {
     "data": {
      "text/plain": [
       "array([[-2.07000729, -0.01197466]])"
      ]
     },
     "execution_count": 12,
     "metadata": {},
     "output_type": "execute_result"
    }
   ],
   "source": [
    "clf.coef_ #посмотрим на коэффициенты при получившейся регрессии"
   ]
  },
  {
   "cell_type": "markdown",
   "metadata": {
    "id": "SPnEp4oGPc3-"
   },
   "source": [
    "Один коэффициент получился большим, а второй маленьким. Разница в 200 раз. Это может быть не очень хорошо. Проблема в том, что изначально наши признаки находились в разных шкалах по размеру. Лучше их привести в какую-то одну общую размерность."
   ]
  },
  {
   "cell_type": "code",
   "execution_count": null,
   "metadata": {
    "id": "ZU-dCIU_Pc3_"
   },
   "outputs": [],
   "source": [
    "from sklearn.preprocessing import StandardScaler"
   ]
  },
  {
   "cell_type": "code",
   "execution_count": null,
   "metadata": {
    "id": "Uh9zwx9NPc3_"
   },
   "outputs": [],
   "source": [
    "scaler = StandardScaler()\n",
    "X2 = scaler.fit_transform(X) #сделаем стандартизацию наших признаков"
   ]
  },
  {
   "cell_type": "code",
   "execution_count": null,
   "metadata": {
    "id": "pdfTNdJCPc3_",
    "outputId": "538a91ef-d94c-44d3-80c4-ca3fe6f88dbe"
   },
   "outputs": [
    {
     "data": {
      "text/plain": [
       "array([[ 1.452455  ,  0.782868  ],\n",
       "       [ 0.28906609,  0.74015178],\n",
       "       [ 0.24388594,  1.12459784],\n",
       "       [ 1.61058554,  1.96468369],\n",
       "       [ 0.33424624, -0.15688904]])"
      ]
     },
     "execution_count": 18,
     "metadata": {},
     "output_type": "execute_result"
    }
   ],
   "source": [
    "X2[:5]"
   ]
  },
  {
   "cell_type": "markdown",
   "metadata": {
    "id": "kPL_upaNPc4A"
   },
   "source": [
    "Как видно, признаки теперь у нас находятся примерно в одной какой-то шкале. Лог. регрессии будет теперь проще подобрать коэффициенты, которые при этом будут тоже примерно находится в одной размерности."
   ]
  },
  {
   "cell_type": "code",
   "execution_count": null,
   "metadata": {
    "id": "94xdoMcVPc4A"
   },
   "outputs": [],
   "source": [
    "clf2 = LogisticRegression(random_state=21).fit(X2, y)"
   ]
  },
  {
   "cell_type": "code",
   "execution_count": null,
   "metadata": {
    "id": "lX1XIxFkPc4A",
    "outputId": "1a424b65-4d56-4cc0-f780-b94a6cf07b50"
   },
   "outputs": [
    {
     "data": {
      "text/plain": [
       "array([[-2.09192663, -2.4554651 ]])"
      ]
     },
     "execution_count": 20,
     "metadata": {},
     "output_type": "execute_result"
    }
   ],
   "source": [
    "clf2.coef_"
   ]
  },
  {
   "cell_type": "markdown",
   "metadata": {
    "id": "RHXRANP3Pc4B"
   },
   "source": [
    "Сейчас будет много кода для того, чтобы построить красивый график. Этот кусок кода вам в самостоятельной части не понадобится, поэтому можно на нем сильно не заострять внимание."
   ]
  },
  {
   "cell_type": "code",
   "execution_count": null,
   "metadata": {
    "id": "yPiapt7iPc4B",
    "outputId": "92125e0a-67a9-4379-d392-60cefe4aac77"
   },
   "outputs": [
    {
     "data": {
      "text/plain": [
       "<matplotlib.legend.Legend at 0x1421b5110>"
      ]
     },
     "execution_count": 24,
     "metadata": {},
     "output_type": "execute_result"
    },
    {
     "data": {
      "image/png": "[encoded data removed]",
      "text/plain": [
       "<Figure size 864x576 with 1 Axes>"
      ]
     },
     "metadata": {},
     "output_type": "display_data"
    }
   ],
   "source": [
    "plt.figure(figsize=(12,8))\n",
    "a = plt.scatter(X2[:, 0], X2[:, 1], c=y, s=30, cmap='flag')\n",
    "\n",
    "# plot the decision function\n",
    "ax = plt.gca()\n",
    "xlim = ax.get_xlim()\n",
    "ylim = ax.get_ylim()\n",
    "\n",
    "# create grid to evaluate model\n",
    "xx = np.linspace(xlim[0], xlim[1], 30)\n",
    "yy = np.linspace(ylim[0], ylim[1], 30)\n",
    "YY, XX = np.meshgrid(yy, xx)\n",
    "xy = np.vstack([XX.ravel(), YY.ravel()]).T\n",
    "Z = clf2.decision_function(xy).reshape(XX.shape)\n",
    "# plot decision boundary and margins\n",
    "ax.contour(XX, YY, Z, colors='k', levels=[0], alpha=0.5,\n",
    "           linestyles=['--', '-', '--'])\n",
    "plt.legend(handles=a.legend_elements()[0], labels=['0', '1'], loc='upper left')"
   ]
  },
  {
   "cell_type": "markdown",
   "metadata": {
    "id": "Jx815BPfPc4C"
   },
   "source": [
    "Что сделала лог. регрессия? По сути в геометрическом смысле она предложила провести прямую линию, которая наилучшим образом отсекает точки двух классов. Всё, что ниже и левее этой линии считаем черными точками, а то, что правее и выше – красными. Да, правило неидеальное – местами есть ошибки: какие-то черные точки мы считаем красными, и наоборот. Но в общем и целом модель неплохо справилась с этим."
   ]
  },
  {
   "cell_type": "markdown",
   "metadata": {
    "id": "NAEDIQz2Pc4D"
   },
   "source": [
    "Давайте попробуем померить качество модели в каком-то числовом виде, а не только взглядом на график. Есть метрика `accuracy`, которая показывает % случаев, в которых модель верно угадала класс, по отношению к общему количеству наблюдений."
   ]
  },
  {
   "cell_type": "code",
   "execution_count": null,
   "metadata": {
    "id": "fiyOxbbNPc4D",
    "outputId": "c9044b0c-f98f-40b6-ae25-1164af0cc102"
   },
   "outputs": [
    {
     "data": {
      "text/plain": [
       "96.15384615384616"
      ]
     },
     "execution_count": 25,
     "metadata": {},
     "output_type": "execute_result"
    }
   ],
   "source": [
    "clf2.score(X2, y) * 100"
   ]
  },
  {
   "cell_type": "markdown",
   "metadata": {
    "id": "CQ6NfwsAPc4D"
   },
   "source": [
    "В 96% случаев модель справилась с предсказанием хорошо. Эта метрика может быть обманчивой, если у вас классы несбалансированы. Например, у вас и так 95% наблюдений – это один и тот же класс. Модель может просто все точки покрасить в один цвет сразу и получить высокий уровень качества, но на самом деле она справилась недостаточно хорошо. Про более сложные метрики поговорим завтра. Пока достаточно и этой."
   ]
  },
  {
   "cell_type": "markdown",
   "metadata": {
    "id": "WIBKoyDWPc4E"
   },
   "source": [
    "## 3. Полезные команды"
   ]
  },
  {
   "cell_type": "markdown",
   "metadata": {
    "id": "JZQPCvNFPc4E"
   },
   "source": [
    "1. Сделать **one-hot encoding** для категориальных признаков."
   ]
  },
  {
   "cell_type": "code",
   "execution_count": null,
   "metadata": {
    "id": "SI6lCBt4Pc4E",
    "outputId": "1ecc7e7c-cd92-4e09-d28a-c84b5b3c6c6e"
   },
   "outputs": [
    {
     "data": {
      "text/html": [
       "<div>\n",
       "<style scoped>\n",
       "    .dataframe tbody tr th:only-of-type {\n",
       "        vertical-align: middle;\n",
       "    }\n",
       "\n",
       "    .dataframe tbody tr th {\n",
       "        vertical-align: top;\n",
       "    }\n",
       "\n",
       "    .dataframe thead th {\n",
       "        text-align: right;\n",
       "    }\n",
       "</style>\n",
       "<table border=\"1\" class=\"dataframe\">\n",
       "  <thead>\n",
       "    <tr style=\"text-align: right;\">\n",
       "      <th></th>\n",
       "      <th>a</th>\n",
       "      <th>ac</th>\n",
       "      <th>av</th>\n",
       "      <th>e</th>\n",
       "      <th>h</th>\n",
       "      <th>hh</th>\n",
       "      <th>hi</th>\n",
       "      <th>i</th>\n",
       "      <th>s</th>\n",
       "      <th>ss</th>\n",
       "      <th>uh</th>\n",
       "      <th>us</th>\n",
       "      <th>неизвестна</th>\n",
       "    </tr>\n",
       "  </thead>\n",
       "  <tbody>\n",
       "    <tr>\n",
       "      <th>0</th>\n",
       "      <td>0</td>\n",
       "      <td>0</td>\n",
       "      <td>0</td>\n",
       "      <td>0</td>\n",
       "      <td>0</td>\n",
       "      <td>0</td>\n",
       "      <td>0</td>\n",
       "      <td>0</td>\n",
       "      <td>0</td>\n",
       "      <td>0</td>\n",
       "      <td>0</td>\n",
       "      <td>0</td>\n",
       "      <td>1</td>\n",
       "    </tr>\n",
       "    <tr>\n",
       "      <th>1</th>\n",
       "      <td>0</td>\n",
       "      <td>0</td>\n",
       "      <td>0</td>\n",
       "      <td>0</td>\n",
       "      <td>0</td>\n",
       "      <td>0</td>\n",
       "      <td>0</td>\n",
       "      <td>0</td>\n",
       "      <td>0</td>\n",
       "      <td>0</td>\n",
       "      <td>0</td>\n",
       "      <td>0</td>\n",
       "      <td>1</td>\n",
       "    </tr>\n",
       "    <tr>\n",
       "      <th>2</th>\n",
       "      <td>0</td>\n",
       "      <td>0</td>\n",
       "      <td>0</td>\n",
       "      <td>0</td>\n",
       "      <td>0</td>\n",
       "      <td>0</td>\n",
       "      <td>0</td>\n",
       "      <td>0</td>\n",
       "      <td>0</td>\n",
       "      <td>0</td>\n",
       "      <td>0</td>\n",
       "      <td>0</td>\n",
       "      <td>1</td>\n",
       "    </tr>\n",
       "    <tr>\n",
       "      <th>3</th>\n",
       "      <td>0</td>\n",
       "      <td>0</td>\n",
       "      <td>0</td>\n",
       "      <td>0</td>\n",
       "      <td>0</td>\n",
       "      <td>0</td>\n",
       "      <td>0</td>\n",
       "      <td>0</td>\n",
       "      <td>0</td>\n",
       "      <td>0</td>\n",
       "      <td>0</td>\n",
       "      <td>0</td>\n",
       "      <td>1</td>\n",
       "    </tr>\n",
       "    <tr>\n",
       "      <th>4</th>\n",
       "      <td>0</td>\n",
       "      <td>0</td>\n",
       "      <td>0</td>\n",
       "      <td>0</td>\n",
       "      <td>0</td>\n",
       "      <td>0</td>\n",
       "      <td>0</td>\n",
       "      <td>0</td>\n",
       "      <td>0</td>\n",
       "      <td>0</td>\n",
       "      <td>0</td>\n",
       "      <td>0</td>\n",
       "      <td>1</td>\n",
       "    </tr>\n",
       "    <tr>\n",
       "      <th>...</th>\n",
       "      <td>...</td>\n",
       "      <td>...</td>\n",
       "      <td>...</td>\n",
       "      <td>...</td>\n",
       "      <td>...</td>\n",
       "      <td>...</td>\n",
       "      <td>...</td>\n",
       "      <td>...</td>\n",
       "      <td>...</td>\n",
       "      <td>...</td>\n",
       "      <td>...</td>\n",
       "      <td>...</td>\n",
       "      <td>...</td>\n",
       "    </tr>\n",
       "    <tr>\n",
       "      <th>355185</th>\n",
       "      <td>0</td>\n",
       "      <td>0</td>\n",
       "      <td>0</td>\n",
       "      <td>0</td>\n",
       "      <td>0</td>\n",
       "      <td>0</td>\n",
       "      <td>0</td>\n",
       "      <td>0</td>\n",
       "      <td>0</td>\n",
       "      <td>0</td>\n",
       "      <td>0</td>\n",
       "      <td>0</td>\n",
       "      <td>1</td>\n",
       "    </tr>\n",
       "    <tr>\n",
       "      <th>355186</th>\n",
       "      <td>0</td>\n",
       "      <td>0</td>\n",
       "      <td>0</td>\n",
       "      <td>0</td>\n",
       "      <td>0</td>\n",
       "      <td>0</td>\n",
       "      <td>0</td>\n",
       "      <td>0</td>\n",
       "      <td>0</td>\n",
       "      <td>0</td>\n",
       "      <td>0</td>\n",
       "      <td>0</td>\n",
       "      <td>1</td>\n",
       "    </tr>\n",
       "    <tr>\n",
       "      <th>355187</th>\n",
       "      <td>0</td>\n",
       "      <td>0</td>\n",
       "      <td>0</td>\n",
       "      <td>0</td>\n",
       "      <td>0</td>\n",
       "      <td>0</td>\n",
       "      <td>0</td>\n",
       "      <td>0</td>\n",
       "      <td>0</td>\n",
       "      <td>0</td>\n",
       "      <td>0</td>\n",
       "      <td>0</td>\n",
       "      <td>1</td>\n",
       "    </tr>\n",
       "    <tr>\n",
       "      <th>355188</th>\n",
       "      <td>0</td>\n",
       "      <td>0</td>\n",
       "      <td>0</td>\n",
       "      <td>0</td>\n",
       "      <td>0</td>\n",
       "      <td>0</td>\n",
       "      <td>0</td>\n",
       "      <td>0</td>\n",
       "      <td>0</td>\n",
       "      <td>0</td>\n",
       "      <td>0</td>\n",
       "      <td>0</td>\n",
       "      <td>1</td>\n",
       "    </tr>\n",
       "    <tr>\n",
       "      <th>355189</th>\n",
       "      <td>0</td>\n",
       "      <td>0</td>\n",
       "      <td>0</td>\n",
       "      <td>0</td>\n",
       "      <td>0</td>\n",
       "      <td>0</td>\n",
       "      <td>0</td>\n",
       "      <td>0</td>\n",
       "      <td>1</td>\n",
       "      <td>0</td>\n",
       "      <td>0</td>\n",
       "      <td>0</td>\n",
       "      <td>0</td>\n",
       "    </tr>\n",
       "  </tbody>\n",
       "</table>\n",
       "<p>355190 rows × 13 columns</p>\n",
       "</div>"
      ],
      "text/plain": [
       "        a  ac  av  e  h  hh  hi  i  s  ss  uh  us  неизвестна\n",
       "0       0   0   0  0  0   0   0  0  0   0   0   0           1\n",
       "1       0   0   0  0  0   0   0  0  0   0   0   0           1\n",
       "2       0   0   0  0  0   0   0  0  0   0   0   0           1\n",
       "3       0   0   0  0  0   0   0  0  0   0   0   0           1\n",
       "4       0   0   0  0  0   0   0  0  0   0   0   0           1\n",
       "...    ..  ..  .. .. ..  ..  .. .. ..  ..  ..  ..         ...\n",
       "355185  0   0   0  0  0   0   0  0  0   0   0   0           1\n",
       "355186  0   0   0  0  0   0   0  0  0   0   0   0           1\n",
       "355187  0   0   0  0  0   0   0  0  0   0   0   0           1\n",
       "355188  0   0   0  0  0   0   0  0  0   0   0   0           1\n",
       "355189  0   0   0  0  0   0   0  0  1   0   0   0           0\n",
       "\n",
       "[355190 rows x 13 columns]"
      ]
     },
     "execution_count": 26,
     "metadata": {},
     "output_type": "execute_result"
    }
   ],
   "source": [
    "pd.get_dummies(df.APP_EDUCATION)"
   ]
  },
  {
   "cell_type": "markdown",
   "metadata": {
    "id": "UMeFNqVuPc4F"
   },
   "source": [
    "2. **Разбить датасет** на train и test."
   ]
  },
  {
   "cell_type": "code",
   "execution_count": null,
   "metadata": {
    "id": "6Y88QIMQPc4F"
   },
   "outputs": [],
   "source": [
    "from sklearn.model_selection import train_test_split"
   ]
  },
  {
   "cell_type": "code",
   "execution_count": null,
   "metadata": {
    "id": "a3fHXAmyPc4F"
   },
   "outputs": [],
   "source": [
    "X_train, X_test, y_train, y_test = train_test_split(wine_ready[['alcohol', 'proline']], wine_ready.CLASS, \n",
    "                                                    test_size=0.2, random_state=21)"
   ]
  },
  {
   "cell_type": "code",
   "execution_count": null,
   "metadata": {
    "id": "MbcU1XlRPc4G",
    "outputId": "2800e04d-ebd8-437b-cccc-2fe53cd5f913"
   },
   "outputs": [
    {
     "data": {
      "text/html": [
       "<div>\n",
       "<style scoped>\n",
       "    .dataframe tbody tr th:only-of-type {\n",
       "        vertical-align: middle;\n",
       "    }\n",
       "\n",
       "    .dataframe tbody tr th {\n",
       "        vertical-align: top;\n",
       "    }\n",
       "\n",
       "    .dataframe thead th {\n",
       "        text-align: right;\n",
       "    }\n",
       "</style>\n",
       "<table border=\"1\" class=\"dataframe\">\n",
       "  <thead>\n",
       "    <tr style=\"text-align: right;\">\n",
       "      <th></th>\n",
       "      <th>alcohol</th>\n",
       "      <th>proline</th>\n",
       "    </tr>\n",
       "  </thead>\n",
       "  <tbody>\n",
       "    <tr>\n",
       "      <th>87</th>\n",
       "      <td>11.65</td>\n",
       "      <td>562.0</td>\n",
       "    </tr>\n",
       "    <tr>\n",
       "      <th>55</th>\n",
       "      <td>13.56</td>\n",
       "      <td>1120.0</td>\n",
       "    </tr>\n",
       "  </tbody>\n",
       "</table>\n",
       "</div>"
      ],
      "text/plain": [
       "    alcohol  proline\n",
       "87    11.65    562.0\n",
       "55    13.56   1120.0"
      ]
     },
     "execution_count": 32,
     "metadata": {},
     "output_type": "execute_result"
    }
   ],
   "source": [
    "X_train.head(2)"
   ]
  },
  {
   "cell_type": "code",
   "execution_count": null,
   "metadata": {
    "id": "fkL6oo9HPc4G",
    "outputId": "e737feea-964f-45df-af55-ad1cb3211bfb"
   },
   "outputs": [
    {
     "data": {
      "text/html": [
       "<div>\n",
       "<style scoped>\n",
       "    .dataframe tbody tr th:only-of-type {\n",
       "        vertical-align: middle;\n",
       "    }\n",
       "\n",
       "    .dataframe tbody tr th {\n",
       "        vertical-align: top;\n",
       "    }\n",
       "\n",
       "    .dataframe thead th {\n",
       "        text-align: right;\n",
       "    }\n",
       "</style>\n",
       "<table border=\"1\" class=\"dataframe\">\n",
       "  <thead>\n",
       "    <tr style=\"text-align: right;\">\n",
       "      <th></th>\n",
       "      <th>alcohol</th>\n",
       "      <th>proline</th>\n",
       "    </tr>\n",
       "  </thead>\n",
       "  <tbody>\n",
       "    <tr>\n",
       "      <th>19</th>\n",
       "      <td>13.64</td>\n",
       "      <td>845.0</td>\n",
       "    </tr>\n",
       "    <tr>\n",
       "      <th>42</th>\n",
       "      <td>13.88</td>\n",
       "      <td>1095.0</td>\n",
       "    </tr>\n",
       "  </tbody>\n",
       "</table>\n",
       "</div>"
      ],
      "text/plain": [
       "    alcohol  proline\n",
       "19    13.64    845.0\n",
       "42    13.88   1095.0"
      ]
     },
     "execution_count": 34,
     "metadata": {},
     "output_type": "execute_result"
    }
   ],
   "source": [
    "X_test.head(2)"
   ]
  },
  {
   "cell_type": "code",
   "execution_count": null,
   "metadata": {
    "id": "JCmTgxIvPc4H",
    "outputId": "171fe80f-ad74-49eb-b6b0-6dbc90e8abbe"
   },
   "outputs": [
    {
     "data": {
      "text/plain": [
       "87    1\n",
       "55    0\n",
       "Name: CLASS, dtype: int64"
      ]
     },
     "execution_count": 35,
     "metadata": {},
     "output_type": "execute_result"
    }
   ],
   "source": [
    "y_train.head(2)"
   ]
  },
  {
   "cell_type": "code",
   "execution_count": null,
   "metadata": {
    "id": "n3_eUkXrPc4H",
    "outputId": "2e3f9cf6-c11d-4c04-cf12-62402946f5da"
   },
   "outputs": [
    {
     "data": {
      "text/plain": [
       "19    0\n",
       "42    0\n",
       "Name: CLASS, dtype: int64"
      ]
     },
     "execution_count": 36,
     "metadata": {},
     "output_type": "execute_result"
    }
   ],
   "source": [
    "y_test.head(2)"
   ]
  },
  {
   "cell_type": "markdown",
   "metadata": {
    "id": "WCswRin_Pc4H"
   },
   "source": [
    "3. Функция, чтобы посмотреть на графике, **какие признаки** модель считает **наиболее важными** (у кого из них больше по модулю коэффициенты)."
   ]
  },
  {
   "cell_type": "code",
   "execution_count": null,
   "metadata": {
    "id": "ASfwZ7lIPc4H"
   },
   "outputs": [],
   "source": [
    "def f_importances(coef, names, top=-1):\n",
    "    imp = coef\n",
    "    imp, names = zip(*sorted(list(zip(imp, names))))\n",
    "\n",
    "    # Show all features\n",
    "    if top == -1:\n",
    "        top = len(names)\n",
    "    plt.figure(figsize=(12,5))\n",
    "    plt.barh(range(top), imp[::-1][0:top], align='center')\n",
    "    plt.yticks(range(top), names[::-1][0:top])\n",
    "    plt.show()"
   ]
  },
  {
   "cell_type": "code",
   "execution_count": null,
   "metadata": {
    "id": "rhEStL_QPc4I",
    "outputId": "e973a57e-0c9d-405c-ab0b-4614e16ffcdc"
   },
   "outputs": [
    {
     "data": {
      "image/png": "[encoded data removed]",
      "text/plain": [
       "<Figure size 864x360 with 1 Axes>"
      ]
     },
     "metadata": {},
     "output_type": "display_data"
    }
   ],
   "source": [
    "f_importances(abs(clf2.coef_[0]), X_train.columns, top=2)"
   ]
  },
  {
   "cell_type": "markdown",
   "metadata": {
    "id": "KPtcdkJ3Pc4I"
   },
   "source": [
    "## 4. Самостоятельная часть"
   ]
  },
  {
   "cell_type": "markdown",
   "metadata": {
    "id": "BZQ3EdHOPc4I"
   },
   "source": [
    "Ниже вам нужно самим по инструкции задания предобработать признаки и построить логистическую регрессию, которая спрогнозирует отток клиентов."
   ]
  },
  {
   "cell_type": "markdown",
   "metadata": {
    "id": "FKknnAP8Pc4I"
   },
   "source": [
    "1. Вам нужно провести стандартизацию количественных признаков. Зачем это нужно - подробнее узнаете в ноутбуке.\n",
    "2. Удалить признак `CLNT_JOB_POSITION` (у него слишком много значений для п.3).\n",
    "3. Вам нужно произвести `one-hot encoding` категориальных признаков. Алгоритмы машинного обучения плохо работают с категориальными признаками, поэтому их надо трансформировать. По сути для каждого значения такого признака создается отдельный столбец, состоящий из нулей и единиц. `0` – если у этого клиента этого значения этого признака нет, и `1` – в противном случае.\n",
    "4. Столбец `ID` сделать индексом для получившегося датафрейма.\n",
    "5. Сохранить получившийся датасет."
   ]
  },
  {
   "cell_type": "code",
   "execution_count": 1,
   "metadata": {
    "id": "s-83sgSRPc4I"
   },
   "outputs": [],
   "source": [
    "import pandas as pd\n",
    "import numpy as np\n",
    "import matplotlib.pyplot as plt\n",
    "import seaborn as sns\n",
    "%matplotlib inline"
   ]
  },
  {
   "cell_type": "code",
   "execution_count": 2,
   "metadata": {},
   "outputs": [],
   "source": [
    "sns.set_style(\"darkgrid\") #у графиков будет красивая серая подложка"
   ]
  },
  {
   "cell_type": "code",
   "execution_count": 3,
   "metadata": {
    "id": "Tg4izksTPc4J"
   },
   "outputs": [],
   "source": [
    "df = pd.read_csv('/Users/npk-s80-1/Desktop/day02/master_&_BD_02/Day02/bank_data_train_d02.csv', index_col=\"ID\")"
   ]
  },
  {
   "cell_type": "markdown",
   "metadata": {},
   "source": [
    "Выведите количество колонок и столбцов в преобработанном датасете"
   ]
  },
  {
   "cell_type": "code",
   "execution_count": 4,
   "metadata": {},
   "outputs": [
    {
     "data": {
      "text/plain": [
       "(355190, 104)"
      ]
     },
     "execution_count": 4,
     "metadata": {},
     "output_type": "execute_result"
    }
   ],
   "source": [
    "df.shape"
   ]
  },
  {
   "cell_type": "code",
   "execution_count": 5,
   "metadata": {},
   "outputs": [
    {
     "data": {
      "text/plain": [
       "['CR_PROD_CNT_IL',\n",
       " 'AMOUNT_RUB_CLO_PRC',\n",
       " 'APP_REGISTR_RGN_CODE',\n",
       " 'TURNOVER_DYNAMIC_IL_1M',\n",
       " 'LDEAL_YQZ_COM_GROUP',\n",
       " 'LDEAL_YQZ_CHRG_GROUP',\n",
       " 'AVG_PCT_MONTH_TO_PCLOSE_GROUP',\n",
       " 'MAX_PCLOSE_DATE_GROUP',\n",
       " 'AVG_PCT_DEBT_TO_DEAL_AMT_GROUP',\n",
       " 'LDEAL_AMT_MONTH_GROUP',\n",
       " 'LDEAL_YQZ_PC_GROUP',\n",
       " 'LDEAL_DELINQ_PER_MAXYQZ_GROUP',\n",
       " 'MED_DEBT_PRC_YQZ_GROUP',\n",
       " 'LDEAL_USED_AMT_AVG_YQZ_GROUP',\n",
       " 'LDEAL_TENOR_MIN_GROUP',\n",
       " 'DEAL_YQZ_IR_MIN_GROUP',\n",
       " 'DEAL_YQZ_IR_MAX_GROUP',\n",
       " 'LDEAL_TENOR_MAX_GROUP',\n",
       " 'CNT_TRAN_CLO_TENDENCY1M_GROUP',\n",
       " 'SUM_TRAN_CLO_TENDENCY1M_GROUP',\n",
       " 'CNT_TRAN_MED_TENDENCY1M_GROUP',\n",
       " 'SUM_TRAN_MED_TENDENCY1M_GROUP',\n",
       " 'DEAL_GRACE_DAYS_ACC_AVG_GROUP',\n",
       " 'DEAL_GRACE_DAYS_ACC_MAX_GROUP',\n",
       " 'DEAL_GRACE_DAYS_ACC_S1X1_GROUP',\n",
       " 'SUM_TRAN_AUT_TENDENCY1M_GROUP',\n",
       " 'CNT_TRAN_AUT_TENDENCY1M_GROUP',\n",
       " 'LDEAL_ACT_DAYS_PCT_TR4_GROUP',\n",
       " 'LDEAL_ACT_DAYS_ACC_PCT_AVG_GROUP',\n",
       " 'LDEAL_ACT_DAYS_PCT_TR_GROUP',\n",
       " 'LDEAL_ACT_DAYS_PCT_TR3_GROUP',\n",
       " 'LDEAL_ACT_DAYS_PCT_CURR_GROUP',\n",
       " 'DEAL_YWZ_IR_MIN_GROUP',\n",
       " 'LDEAL_USED_AMT_AVG_YWZ_GROUP',\n",
       " 'LDEAL_DELINQ_PER_MAXYWZ_GROUP',\n",
       " 'DEAL_YWZ_IR_MAX_GROUP',\n",
       " 'MED_DEBT_PRC_YWZ_GROUP',\n",
       " 'LDEAL_ACT_DAYS_PCT_AAVG_GROUP',\n",
       " 'SUM_TRAN_AUT_TENDENCY3M_GROUP',\n",
       " 'CNT_TRAN_AUT_TENDENCY3M_GROUP',\n",
       " 'CNT_TRAN_CLO_TENDENCY3M_GROUP',\n",
       " 'SUM_TRAN_CLO_TENDENCY3M_GROUP',\n",
       " 'CNT_TRAN_MED_TENDENCY3M_GROUP',\n",
       " 'SUM_TRAN_MED_TENDENCY3M_GROUP',\n",
       " 'CNT_TRAN_SUP_TENDENCY1M_GROUP',\n",
       " 'SUM_TRAN_SUP_TENDENCY1M_GROUP',\n",
       " 'CLNT_SALARY_VALUE_GROUP',\n",
       " 'AMOUNT_RUB_SUP_PRC',\n",
       " 'CLNT_TRUST_RELATION',\n",
       " 'REST_DYNAMIC_FDEP_1M',\n",
       " 'APP_MARITAL_STATUS',\n",
       " 'REST_DYNAMIC_SAVE_3M',\n",
       " 'CR_PROD_CNT_VCU',\n",
       " 'REST_AVG_CUR',\n",
       " 'APP_KIND_OF_PROP_HABITATION',\n",
       " 'CLNT_JOB_POSITION_TYPE',\n",
       " 'AMOUNT_RUB_NAS_PRC',\n",
       " 'CLNT_JOB_POSITION',\n",
       " 'APP_DRIVING_LICENSE',\n",
       " 'TRANS_COUNT_SUP_PRC',\n",
       " 'APP_EDUCATION',\n",
       " 'TRANS_COUNT_NAS_PRC',\n",
       " 'APP_TRAVEL_PASS',\n",
       " 'CR_PROD_CNT_TOVR',\n",
       " 'APP_CAR',\n",
       " 'CR_PROD_CNT_PIL',\n",
       " 'APP_POSITION_TYPE',\n",
       " 'TURNOVER_CC',\n",
       " 'TRANS_COUNT_ATM_PRC',\n",
       " 'AMOUNT_RUB_ATM_PRC',\n",
       " 'TURNOVER_PAYM',\n",
       " 'AGE',\n",
       " 'CR_PROD_CNT_CC',\n",
       " 'REST_DYNAMIC_FDEP_3M',\n",
       " 'REST_DYNAMIC_IL_1M',\n",
       " 'APP_EMP_TYPE',\n",
       " 'CR_PROD_CNT_CCFP',\n",
       " 'REST_DYNAMIC_CUR_1M',\n",
       " 'REST_AVG_PAYM',\n",
       " 'LDEAL_GRACE_DAYS_PCT_MED',\n",
       " 'REST_DYNAMIC_CUR_3M',\n",
       " 'CNT_TRAN_SUP_TENDENCY3M',\n",
       " 'TURNOVER_DYNAMIC_CUR_1M',\n",
       " 'REST_DYNAMIC_PAYM_3M',\n",
       " 'SUM_TRAN_SUP_TENDENCY3M',\n",
       " 'REST_DYNAMIC_IL_3M',\n",
       " 'CNT_TRAN_ATM_TENDENCY3M',\n",
       " 'CNT_TRAN_ATM_TENDENCY1M',\n",
       " 'TURNOVER_DYNAMIC_IL_3M',\n",
       " 'SUM_TRAN_ATM_TENDENCY3M',\n",
       " 'SUM_TRAN_ATM_TENDENCY1M',\n",
       " 'REST_DYNAMIC_PAYM_1M',\n",
       " 'TURNOVER_DYNAMIC_CUR_3M',\n",
       " 'PACK',\n",
       " 'CLNT_SETUP_TENOR',\n",
       " 'TURNOVER_DYNAMIC_PAYM_3M',\n",
       " 'TURNOVER_DYNAMIC_PAYM_1M',\n",
       " 'TRANS_AMOUNT_TENDENCY3M',\n",
       " 'TRANS_CNT_TENDENCY3M',\n",
       " 'REST_DYNAMIC_CC_1M',\n",
       " 'TURNOVER_DYNAMIC_CC_1M',\n",
       " 'REST_DYNAMIC_CC_3M',\n",
       " 'TURNOVER_DYNAMIC_CC_3M',\n",
       " 'TARGET']"
      ]
     },
     "execution_count": 5,
     "metadata": {},
     "output_type": "execute_result"
    }
   ],
   "source": [
    "list(df)"
   ]
  },
  {
   "cell_type": "code",
   "execution_count": 6,
   "metadata": {},
   "outputs": [
    {
     "data": {
      "text/plain": [
       "ID\n",
       "146841        начальник отдела\n",
       "146842              неизвестна\n",
       "146843    генеральный директор\n",
       "146844            менеджер иао\n",
       "146845              неизвестна\n",
       "                  ...         \n",
       "590822              неизвестна\n",
       "590823              неизвестна\n",
       "590825              неизвестна\n",
       "590826            руководитель\n",
       "590828      рекламный менеджер\n",
       "Name: CLNT_JOB_POSITION, Length: 355190, dtype: object"
      ]
     },
     "execution_count": 6,
     "metadata": {},
     "output_type": "execute_result"
    }
   ],
   "source": [
    "df.pop('CLNT_JOB_POSITION')"
   ]
  },
  {
   "cell_type": "code",
   "execution_count": 7,
   "metadata": {},
   "outputs": [
    {
     "data": {
      "text/plain": [
       "(355190, 103)"
      ]
     },
     "execution_count": 7,
     "metadata": {},
     "output_type": "execute_result"
    }
   ],
   "source": [
    "df.shape"
   ]
  },
  {
   "cell_type": "code",
   "execution_count": 8,
   "metadata": {},
   "outputs": [],
   "source": [
    "n_column=df.select_dtypes(include=np.number)\n",
    "n_column.drop(inplace=True, columns=['TARGET'])"
   ]
  },
  {
   "cell_type": "code",
   "execution_count": 9,
   "metadata": {},
   "outputs": [],
   "source": [
    "from sklearn.preprocessing import StandardScaler\n",
    "scaled_features = StandardScaler().fit_transform(n_column)\n",
    "n_df = pd.DataFrame(scaled_features, index=n_column.index, columns=n_column.columns)"
   ]
  },
  {
   "cell_type": "code",
   "execution_count": 13,
   "metadata": {},
   "outputs": [],
   "source": [
    "notn_column = df.select_dtypes(exclude=np.number)"
   ]
  },
  {
   "cell_type": "code",
   "execution_count": 14,
   "metadata": {},
   "outputs": [],
   "source": [
    "n_text = pd.get_dummies(notn_column)"
   ]
  },
  {
   "cell_type": "code",
   "execution_count": 15,
   "metadata": {},
   "outputs": [],
   "source": [
    "df_itog=n_df.merge(n_text, sort=True, left_on='ID', right_on='ID')"
   ]
  },
  {
   "cell_type": "code",
   "execution_count": 16,
   "metadata": {},
   "outputs": [],
   "source": [
    "df_itog.to_csv('/Users/npk-s80-1/Desktop/day02/master_&_BD_02/Day02/df_itog.csv',header=True, index=True)"
   ]
  },
  {
   "cell_type": "code",
   "execution_count": 17,
   "metadata": {},
   "outputs": [],
   "source": [
    "df_itog_target=df.loc[::][\"TARGET\"]\n",
    "df_itog_target.to_csv('/Users/npk-s80-1/Desktop/day02/master_&_BD_02/Day02/df_itog_target.csv', header=True, index=True)"
   ]
  },
  {
   "cell_type": "markdown",
   "metadata": {},
   "source": [
    "6. Поделить получившийся датасет на `train` и `test`. Процент тестовой выборки: `20%`. Использовать параметр `random_state=21`.\n"
   ]
  },
  {
   "cell_type": "code",
   "execution_count": 18,
   "metadata": {},
   "outputs": [],
   "source": [
    "from sklearn.model_selection import train_test_split"
   ]
  },
  {
   "cell_type": "code",
   "execution_count": 19,
   "metadata": {},
   "outputs": [],
   "source": [
    "X_train, X_test, y_train, y_test= train_test_split(df_itog, df_itog_target, test_size=0.2, random_state=21)"
   ]
  },
  {
   "cell_type": "markdown",
   "metadata": {},
   "source": [
    "Выведите количество колонок и столбцов в обучающей выборке"
   ]
  },
  {
   "cell_type": "code",
   "execution_count": 20,
   "metadata": {},
   "outputs": [
    {
     "data": {
      "text/plain": [
       "(284152, 370)"
      ]
     },
     "execution_count": 20,
     "metadata": {},
     "output_type": "execute_result"
    }
   ],
   "source": [
    "X_train.shape"
   ]
  },
  {
   "cell_type": "code",
   "execution_count": 21,
   "metadata": {},
   "outputs": [
    {
     "data": {
      "text/plain": [
       "(71038, 370)"
      ]
     },
     "execution_count": 21,
     "metadata": {},
     "output_type": "execute_result"
    }
   ],
   "source": [
    "X_test.shape"
   ]
  },
  {
   "cell_type": "code",
   "execution_count": 22,
   "metadata": {},
   "outputs": [
    {
     "data": {
      "text/plain": [
       "(284152,)"
      ]
     },
     "execution_count": 22,
     "metadata": {},
     "output_type": "execute_result"
    }
   ],
   "source": [
    "y_train.shape"
   ]
  },
  {
   "cell_type": "code",
   "execution_count": 23,
   "metadata": {},
   "outputs": [
    {
     "data": {
      "text/plain": [
       "(71038,)"
      ]
     },
     "execution_count": 23,
     "metadata": {},
     "output_type": "execute_result"
    }
   ],
   "source": [
    "y_test.shape"
   ]
  },
  {
   "cell_type": "markdown",
   "metadata": {
    "id": "bBZTBQgwPc4J"
   },
   "source": [
    "7. Обучить логистическую регрессию с параметрами: `solver='liblinear'`, `fit_intercept=False`, `penalty='l1'`, `random_state=21`."
   ]
  },
  {
   "cell_type": "code",
   "execution_count": 24,
   "metadata": {
    "id": "3alngdOgPc4J"
   },
   "outputs": [],
   "source": [
    "from sklearn.linear_model import LogisticRegression"
   ]
  },
  {
   "cell_type": "code",
   "execution_count": 27,
   "metadata": {
    "id": "O0CvGoTnPc4J"
   },
   "outputs": [],
   "source": [
    "clf = LogisticRegression(solver='liblinear', fit_intercept=False, penalty='l1', random_state=21).fit(X_train, y_train)"
   ]
  },
  {
   "cell_type": "code",
   "execution_count": 28,
   "metadata": {},
   "outputs": [
    {
     "data": {
      "text/plain": [
       "array([[-2.32528476e-03,  3.67329328e-02,  3.42204131e-02,\n",
       "        -5.31102078e-02,  0.00000000e+00,  3.41122805e-02,\n",
       "         3.04309347e-03, -1.94277249e+00, -1.77823118e-02,\n",
       "         2.09240030e-01,  3.66774937e-02,  2.95870838e-02,\n",
       "         7.40313915e-03,  4.01081386e-03,  2.40494209e-01,\n",
       "        -1.14705083e-02,  2.21267541e-02, -8.38659064e-02,\n",
       "        -1.01458705e-02,  6.93674644e-02, -7.33277272e-03,\n",
       "        -2.66039044e-03, -3.70324638e-01, -3.35749252e-01,\n",
       "        -1.61872011e-02, -7.02537402e-02,  1.39347309e-02,\n",
       "         2.33593445e-01,  7.89462052e-02,  7.67020765e-03,\n",
       "        -1.10100452e-01, -4.24456011e-02,  1.17867797e-01,\n",
       "         1.51152684e-02, -3.00569117e-02,  6.56197263e-02,\n",
       "        -2.29567329e-01,  8.21863210e-02, -2.57929443e-01,\n",
       "         7.63308224e-02,  1.44281676e-01,  7.13008086e-03,\n",
       "         1.41858405e-02, -6.55426953e-02,  2.36091501e-02,\n",
       "        -3.26064047e-02, -2.63414450e-03,  6.87482521e-01,\n",
       "         3.16856568e-01, -2.91301995e-01, -4.01117134e-02,\n",
       "        -4.17312220e-01,  1.52580828e-01,  0.00000000e+00,\n",
       "         8.19382062e-02,  0.00000000e+00,  2.20473853e-01,\n",
       "        -7.91915453e-02,  8.96691129e-02,  1.02320627e+00,\n",
       "         1.06149593e-01,  0.00000000e+00, -1.42722604e-02,\n",
       "        -7.39033755e-02, -2.38566323e-01,  0.00000000e+00,\n",
       "         4.64834860e-02,  0.00000000e+00,  4.35046978e-02,\n",
       "         0.00000000e+00,  4.08388697e-01,  0.00000000e+00,\n",
       "         1.10960767e-01, -3.60168071e-01,  4.51686046e-02,\n",
       "         1.02111550e+00, -8.35713517e-02,  7.35267156e-02,\n",
       "         6.73950754e-02, -4.45008306e-02,  0.00000000e+00,\n",
       "         5.28457431e-01,  0.00000000e+00,  1.01013775e-01,\n",
       "        -3.04192097e-01, -3.60414022e-01,  8.74637354e-02,\n",
       "        -4.54802526e-01, -2.31730013e-01,  1.58213141e-01,\n",
       "         0.00000000e+00,  6.51874599e-02, -2.94676963e-02,\n",
       "        -5.09192246e-02, -4.02801060e-01, -1.05216253e-01,\n",
       "        -2.40714971e-01,  4.51465321e-02,  0.00000000e+00,\n",
       "         1.56704106e-01,  0.00000000e+00,  0.00000000e+00,\n",
       "         2.10696089e-01, -1.89421887e-01,  1.11573034e-01,\n",
       "         2.09043291e-01,  1.00179452e-01,  3.05590122e-01,\n",
       "        -6.32534045e-03, -1.88235374e-01, -9.23354144e-02,\n",
       "         1.07885942e-03, -8.18961880e-01, -4.29233999e-01,\n",
       "         1.27984455e-02,  0.00000000e+00, -1.01652478e-02,\n",
       "         1.50502587e-01, -1.11096631e-01, -9.62510450e-02,\n",
       "        -1.08355545e-01, -1.94921603e-01,  0.00000000e+00,\n",
       "        -4.35888331e-01,  0.00000000e+00, -2.90369374e-01,\n",
       "         0.00000000e+00,  0.00000000e+00,  4.74755350e-01,\n",
       "         0.00000000e+00, -1.16797771e-01,  0.00000000e+00,\n",
       "        -1.27546865e-01, -7.47963991e-01,  0.00000000e+00,\n",
       "         4.00487969e-01, -1.65432782e-01,  0.00000000e+00,\n",
       "         2.00500360e-01, -2.92610651e-01, -8.26504017e-02,\n",
       "        -7.25406172e-01,  2.15742300e-01, -4.23727201e-01,\n",
       "        -3.02883204e-01, -6.55894560e-01,  0.00000000e+00,\n",
       "         1.13914153e-01,  0.00000000e+00, -1.27686565e-01,\n",
       "        -1.35984403e-01,  5.36734566e-02,  0.00000000e+00,\n",
       "        -2.00574872e+00, -1.99732826e+00,  3.33701324e-02,\n",
       "         0.00000000e+00, -1.17093937e+00, -9.61695525e-01,\n",
       "         4.73224639e-02, -5.21206379e-01,  1.50527189e-02,\n",
       "         5.32840530e-01,  0.00000000e+00, -4.62907259e-02,\n",
       "         0.00000000e+00, -5.09028141e-02,  0.00000000e+00,\n",
       "        -8.39105642e-03, -5.70028638e-02, -1.42161412e-01,\n",
       "         2.41236452e-01,  0.00000000e+00,  0.00000000e+00,\n",
       "        -3.87038098e-02, -1.34506466e-01, -6.52538395e-02,\n",
       "         5.02449125e-02,  0.00000000e+00, -9.44538586e-02,\n",
       "        -1.95441390e-01,  9.58957618e-02, -1.31360467e-01,\n",
       "        -1.54235570e-01, -3.47683901e-02,  1.91336951e-01,\n",
       "         0.00000000e+00,  0.00000000e+00,  1.69549472e-02,\n",
       "        -4.06906664e-02, -1.61086244e-01,  0.00000000e+00,\n",
       "        -2.20041594e-01, -1.37335335e-02,  1.21065174e-01,\n",
       "        -1.22984140e-01,  0.00000000e+00, -1.31972819e-01,\n",
       "        -1.33108944e-01,  0.00000000e+00, -2.84106101e-02,\n",
       "         9.18266965e-02, -1.33760775e-01, -7.64153432e-02,\n",
       "         7.72943524e-02, -1.27857635e-01,  0.00000000e+00,\n",
       "        -2.09193949e-01, -6.64329535e-02, -2.70170109e-02,\n",
       "        -1.24907336e-01,  0.00000000e+00, -8.71355819e-02,\n",
       "        -2.52028097e-02,  0.00000000e+00, -3.73129873e-02,\n",
       "         0.00000000e+00, -1.61023697e-01, -6.26692001e-02,\n",
       "        -3.35584327e-02,  3.22045234e-02,  0.00000000e+00,\n",
       "        -6.47235682e-03, -1.17282220e-01, -3.91173516e-02,\n",
       "         3.57946693e-02,  0.00000000e+00, -3.50160514e-02,\n",
       "        -1.35092499e-01,  0.00000000e+00, -5.30653329e-02,\n",
       "        -1.42855695e-01, -1.73222287e-01,  1.87096014e-01,\n",
       "        -4.54888136e-02,  0.00000000e+00, -1.86589465e-01,\n",
       "         0.00000000e+00, -2.10111616e-01,  0.00000000e+00,\n",
       "        -2.88230853e-01, -1.53292163e-02,  0.00000000e+00,\n",
       "         6.64231776e-02, -5.61788038e-02,  0.00000000e+00,\n",
       "         0.00000000e+00, -9.59718112e-03,  0.00000000e+00,\n",
       "         0.00000000e+00,  0.00000000e+00,  0.00000000e+00,\n",
       "         0.00000000e+00,  0.00000000e+00, -3.21248078e-01,\n",
       "         2.53449809e-01,  0.00000000e+00, -1.73437610e-02,\n",
       "         1.57189554e-03, -7.48995734e-03,  0.00000000e+00,\n",
       "         1.91321794e-03,  0.00000000e+00, -1.97341452e-01,\n",
       "         3.76528093e-02, -9.57110414e-03,  0.00000000e+00,\n",
       "        -1.23589307e-01,  3.70919050e-02, -1.15538848e-01,\n",
       "        -1.07131791e-01, -2.14575910e-01,  2.05376678e-02,\n",
       "        -3.93768597e-02,  0.00000000e+00, -6.84949365e-02,\n",
       "         0.00000000e+00, -6.50868535e-02,  0.00000000e+00,\n",
       "        -6.72152139e-02, -3.20460845e-01,  3.87052035e-01,\n",
       "        -3.83625573e-01, -1.92970623e-01, -5.05779221e-01,\n",
       "        -6.47886863e-01, -1.04579990e+00, -2.60854561e-01,\n",
       "        -4.86179618e-01, -6.00142456e-01,  0.00000000e+00,\n",
       "         7.92587686e-03, -5.60290549e-01, -1.01249509e+00,\n",
       "        -6.32161014e-01, -1.26371624e-01,  3.67469835e-03,\n",
       "         2.07204713e-01,  0.00000000e+00,  1.01811119e-01,\n",
       "         0.00000000e+00, -3.50733082e-02,  0.00000000e+00,\n",
       "        -1.01109734e-01, -6.28643614e-02,  7.53336393e-02,\n",
       "        -4.86360269e-02, -1.25541855e-01,  3.42997841e-02,\n",
       "         1.68040392e-02, -3.13728333e-02, -5.19880386e-02,\n",
       "         0.00000000e+00, -6.40938085e-02,  0.00000000e+00,\n",
       "        -2.44976651e-02, -4.22581530e-02,  0.00000000e+00,\n",
       "        -2.82662114e-02, -2.48499526e-02,  2.80290513e-01,\n",
       "         1.02546684e-03, -1.20801386e-01, -1.09666808e-01,\n",
       "        -1.90589524e-01,  0.00000000e+00, -6.56780785e-02,\n",
       "        -1.21165290e-01, -4.54579441e-01,  0.00000000e+00,\n",
       "         0.00000000e+00,  0.00000000e+00,  0.00000000e+00,\n",
       "        -3.38076876e-02,  0.00000000e+00,  0.00000000e+00,\n",
       "        -3.73017402e-01,  6.22830248e-02,  7.83095354e-02,\n",
       "         8.35575654e-02,  2.00182003e-01, -4.45107232e-01,\n",
       "        -3.24055882e-02, -2.35365028e-01,  3.91233404e-02,\n",
       "        -4.90410452e-01, -4.93505647e-01,  0.00000000e+00,\n",
       "         0.00000000e+00,  3.25988239e-02,  7.83980229e-02,\n",
       "        -3.51219282e-03, -2.30238888e-01, -4.22074456e-01,\n",
       "        -2.73798534e-01, -1.16724321e-01,  3.57551726e-02,\n",
       "         0.00000000e+00,  3.03668516e-01, -1.93342957e-01,\n",
       "        -2.48312914e-01, -3.02081988e-01,  0.00000000e+00,\n",
       "        -2.97911567e-01,  0.00000000e+00,  2.63366280e-01,\n",
       "        -1.89336349e-01,  1.47785904e-01,  1.21786215e+00,\n",
       "        -2.38549363e-01]])"
      ]
     },
     "execution_count": 28,
     "metadata": {},
     "output_type": "execute_result"
    }
   ],
   "source": [
    "clf.coef_"
   ]
  },
  {
   "cell_type": "markdown",
   "metadata": {},
   "source": [
    "8. Посчитать `accuracy` модели на тестовой выборке, сравнив предсказанные значения с реальными."
   ]
  },
  {
   "cell_type": "code",
   "execution_count": 30,
   "metadata": {},
   "outputs": [
    {
     "data": {
      "text/plain": [
       "91.97612545398238"
      ]
     },
     "execution_count": 30,
     "metadata": {},
     "output_type": "execute_result"
    }
   ],
   "source": [
    "clf.score(X_test, y_test) * 100"
   ]
  },
  {
   "cell_type": "markdown",
   "metadata": {},
   "source": [
    "9. Посчитать процент клиентов в тестовой выборке, у которых индикатор оттока равен `0`, и сравнить с `accuracy`."
   ]
  },
  {
   "cell_type": "code",
   "execution_count": 31,
   "metadata": {},
   "outputs": [
    {
     "data": {
      "text/plain": [
       "0    0.919606\n",
       "1    0.080394\n",
       "Name: TARGET, dtype: float64"
      ]
     },
     "execution_count": 31,
     "metadata": {},
     "output_type": "execute_result"
    }
   ],
   "source": [
    "y_test.value_counts(normalize=True)"
   ]
  },
  {
   "cell_type": "markdown",
   "metadata": {},
   "source": [
    "10. Построить график, на котором видны топ-10 самых важных факторов по мнению модели в абсолютном значении."
   ]
  },
  {
   "cell_type": "code",
   "execution_count": 34,
   "metadata": {},
   "outputs": [],
   "source": [
    "def f_importances(coef, names, top=-1):\n",
    "    imp = coef\n",
    "    imp, names= zip(*sorted(list(zip(imp, names))))\n",
    "    if top == -1:\n",
    "        top = len(names)\n",
    "    plt.figure(figsize=(12,5))\n",
    "    plt.barh(range(top), imp[::-1][0:top], align='center')\n",
    "    plt.yticks(range(top), names[::-1][0:top])\n",
    "    plt.show()"
   ]
  },
  {
   "cell_type": "code",
   "execution_count": 35,
   "metadata": {},
   "outputs": [
    {
     "data": {
      "image/png": "[encoded data removed]",
      "text/plain": [
       "<Figure size 1200x500 with 1 Axes>"
      ]
     },
     "metadata": {},
     "output_type": "display_data"
    }
   ],
   "source": [
    "f_importances(abs(clf.coef_[0]), X_train.columns, top=10)"
   ]
  },
  {
   "cell_type": "code",
   "execution_count": null,
   "metadata": {},
   "outputs": [],
   "source": []
  }
 ],
 "metadata": {
  "colab": {
   "collapsed_sections": [
    "KPtcdkJ3Pc4I"
   ],
   "name": "d02_task.ipynb",
   "provenance": []
  },
  "kernelspec": {
   "display_name": "Python 3 (ipykernel)",
   "language": "python",
   "name": "python3"
  },
  "language_info": {
   "codemirror_mode": {
    "name": "ipython",
    "version": 3
   },
   "file_extension": ".py",
   "mimetype": "text/x-python",
   "name": "python",
   "nbconvert_exporter": "python",
   "pygments_lexer": "ipython3",
   "version": "3.9.13"
  }
 },
 "nbformat": 4,
 "nbformat_minor": 4
}
